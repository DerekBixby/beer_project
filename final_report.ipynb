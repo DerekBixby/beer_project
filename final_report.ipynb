{
 "cells": [
  {
   "cell_type": "markdown",
   "id": "f9a20de9",
   "metadata": {},
   "source": [
    "# Individual Final Report: Beer Dataset"
   ]
  },
  {
   "cell_type": "markdown",
   "id": "93308491",
   "metadata": {},
   "source": [
    "## Goal: "
   ]
  },
  {
   "cell_type": "markdown",
   "id": "c6ba03e1",
   "metadata": {},
   "source": [
    "* Discover variables (drivers) contributing to the quality of beer ratings\n",
    "* Utilize these drivers to predict categories of beer rating based on qualities and sub ratings\n",
    "* Utilize this final categorization model in predicting perception of quality of beers going forward"
   ]
  },
  {
   "cell_type": "markdown",
   "id": "e64c3bad",
   "metadata": {},
   "source": [
    "## Imports"
   ]
  },
  {
   "cell_type": "code",
   "execution_count": 26,
   "id": "5d9ce4f5",
   "metadata": {},
   "outputs": [],
   "source": [
    "import os\n",
    "\n",
    "import pandas as pd\n",
    "import numpy as np\n",
    "import matplotlib.pyplot as plt\n",
    "import seaborn as sns\n",
    "import statsmodels.api as sm\n",
    "import scipy.stats as stats\n",
    "\n",
    "import warnings\n",
    "warnings.filterwarnings(\"ignore\")\n",
    "\n",
    "\n",
    "from sklearn.model_selection import train_test_split\n",
    "from sklearn.metrics import classification_report, confusion_matrix \n",
    "from sklearn.metrics import accuracy_score\n",
    "from sklearn.tree import DecisionTreeClassifier, plot_tree\n",
    "from sklearn.ensemble import RandomForestClassifier\n",
    "\n",
    "from wrangle import get_beer, split_data, review_categorizer, wrangle_beer, find_lager, find_barley"
   ]
  },
  {
   "cell_type": "markdown",
   "id": "c771693f",
   "metadata": {},
   "source": [
    "## Acquire"
   ]
  },
  {
   "cell_type": "markdown",
   "id": "a41e190d",
   "metadata": {},
   "source": [
    "* Acquired data from data.world BeerAdvocate dataset\n",
    "* Dataset originally had 1.5 million rows and 13 columns"
   ]
  },
  {
   "cell_type": "code",
   "execution_count": 2,
   "id": "77e468fc",
   "metadata": {},
   "outputs": [],
   "source": [
    "df = get_beer()"
   ]
  },
  {
   "cell_type": "markdown",
   "id": "e2414cbf",
   "metadata": {},
   "source": [
    "## Prepare"
   ]
  },
  {
   "cell_type": "markdown",
   "id": "f22d6e1a",
   "metadata": {},
   "source": [
    "* Eliminated columns that are not immediately useful to the project\n",
    "* Created new, pre-encoded categorical column showing if a beer is a lager or ale and if beer uses barley or not\n",
    "* Filled nulls in ABV column with mode of beer ABV (5%) as this matches overall average beer ABV\n",
    "* Created categorical version of target variable with only 5 separate categories instead of 10 (.5 increments) for easier analysis\n",
    "* Same rows, but final dataframe had 12 columns\n",
    "* Split data into train, validate, and test groups in a 60/20/20 split \n",
    "* All alpha values set at .05"
   ]
  },
  {
   "cell_type": "code",
   "execution_count": 3,
   "id": "7294ffb6",
   "metadata": {},
   "outputs": [],
   "source": [
    "df = wrangle_beer()"
   ]
  },
  {
   "cell_type": "code",
   "execution_count": 4,
   "id": "6d3817a1",
   "metadata": {},
   "outputs": [],
   "source": [
    "#train, validate, and test split\n",
    "train, validate, test = split_data(df, col_to_stratify='review_cat')\n"
   ]
  },
  {
   "cell_type": "code",
   "execution_count": 5,
   "id": "ff765d33",
   "metadata": {},
   "outputs": [],
   "source": [
    "# splits into x and y for features and target variable on train, test, and validate\n",
    "X_train = train.drop(columns=['review_overall', 'review_appearance', 'beer_style', 'review_palate', 'review_taste', 'beer_name', 'beer_beerid', 'review_cat'])\n",
    "y_train = train.review_cat\n",
    "\n",
    "X_validate = validate.drop(columns=['review_overall', 'review_appearance', 'beer_style', 'review_palate', 'review_taste', 'beer_name', 'beer_beerid', 'review_cat'])\n",
    "y_validate = validate.review_cat\n",
    "\n",
    "X_test = test.drop(columns=['review_overall', 'review_appearance', 'beer_style', 'review_palate', 'review_taste', 'beer_name', 'beer_beerid', 'review_cat'])\n",
    "y_test = test.review_cat"
   ]
  },
  {
   "cell_type": "markdown",
   "id": "9e30ac3c",
   "metadata": {},
   "source": [
    "## Data Dictionary"
   ]
  },
  {
   "cell_type": "markdown",
   "id": "03aed2d8",
   "metadata": {},
   "source": [
    "The following dictionary only defines columns used in analysis for this dataset. Each row represents an individual beer review."
   ]
  },
  {
   "cell_type": "markdown",
   "id": "1716a00a",
   "metadata": {},
   "source": [
    "| Feature | Definition |\n",
    "|:--------|:-----------|\n",
    "|Overall Quality Review| Rating from 1 to 5 of overall beer quality from an individual user on BeerAdvocate.com, target variable|\n",
    "|Review Category| Transformation of target variable into 5 categories: 0-1 = 1, 1-2 = 2, etc.|\n",
    "|Aroma Review| Rating from 1 to 5 of quality for beer smell|\n",
    "|Appearance Review| Rating from 1 to 5 of beer's appearance |\n",
    "|Palate Review| Rating from 1 to 5 of how beer feels in one's mouth|\n",
    "|Taste Review| Rating from 1 to 5 of how beer tastes|\n",
    "|Beer Style| string stating the name of the style of beer, 104 unique values|\n",
    "|Beer Name| String stating name of beer|\n",
    "|Beer ABV| Float displaying percentage of alcohol in beer|\n",
    "|Beer ID| Numeric identifier of individual beer|\n",
    "|Is Lager| Encoded column stating if a beer is a lager or not, derived from Beer Style column|\n",
    "|Is Barley| Encoded column stating if a beer primarily uses barley as a malt (grain) ingeredient or not, derived from Beer Style column|"
   ]
  },
  {
   "cell_type": "markdown",
   "id": "ca5cd4f7",
   "metadata": {},
   "source": [
    "## Explore"
   ]
  },
  {
   "cell_type": "markdown",
   "id": "f588a3c9",
   "metadata": {},
   "source": [
    "### Overall review and summary of data"
   ]
  },
  {
   "cell_type": "code",
   "execution_count": 6,
   "id": "a9af6567",
   "metadata": {},
   "outputs": [
    {
     "data": {
      "text/html": [
       "<div>\n",
       "<style scoped>\n",
       "    .dataframe tbody tr th:only-of-type {\n",
       "        vertical-align: middle;\n",
       "    }\n",
       "\n",
       "    .dataframe tbody tr th {\n",
       "        vertical-align: top;\n",
       "    }\n",
       "\n",
       "    .dataframe thead th {\n",
       "        text-align: right;\n",
       "    }\n",
       "</style>\n",
       "<table border=\"1\" class=\"dataframe\">\n",
       "  <thead>\n",
       "    <tr style=\"text-align: right;\">\n",
       "      <th></th>\n",
       "      <th>review_overall</th>\n",
       "      <th>review_aroma</th>\n",
       "      <th>review_appearance</th>\n",
       "      <th>review_palate</th>\n",
       "      <th>review_taste</th>\n",
       "      <th>beer_abv</th>\n",
       "      <th>beer_beerid</th>\n",
       "      <th>is_lager</th>\n",
       "      <th>is_barley</th>\n",
       "      <th>review_cat</th>\n",
       "    </tr>\n",
       "  </thead>\n",
       "  <tbody>\n",
       "    <tr>\n",
       "      <th>count</th>\n",
       "      <td>951968.000000</td>\n",
       "      <td>951968.000000</td>\n",
       "      <td>951968.000000</td>\n",
       "      <td>951968.000000</td>\n",
       "      <td>951968.000000</td>\n",
       "      <td>951968.000000</td>\n",
       "      <td>951968.000000</td>\n",
       "      <td>951968.000000</td>\n",
       "      <td>951968.000000</td>\n",
       "      <td>951968.000000</td>\n",
       "    </tr>\n",
       "    <tr>\n",
       "      <th>mean</th>\n",
       "      <td>3.815627</td>\n",
       "      <td>3.736057</td>\n",
       "      <td>3.841506</td>\n",
       "      <td>3.743416</td>\n",
       "      <td>3.793138</td>\n",
       "      <td>6.953427</td>\n",
       "      <td>21715.507504</td>\n",
       "      <td>0.233275</td>\n",
       "      <td>0.860780</td>\n",
       "      <td>4.035455</td>\n",
       "    </tr>\n",
       "    <tr>\n",
       "      <th>std</th>\n",
       "      <td>0.720539</td>\n",
       "      <td>0.697346</td>\n",
       "      <td>0.616153</td>\n",
       "      <td>0.682205</td>\n",
       "      <td>0.731730</td>\n",
       "      <td>2.307333</td>\n",
       "      <td>21821.529150</td>\n",
       "      <td>0.422916</td>\n",
       "      <td>0.346176</td>\n",
       "      <td>0.770258</td>\n",
       "    </tr>\n",
       "    <tr>\n",
       "      <th>min</th>\n",
       "      <td>0.000000</td>\n",
       "      <td>1.000000</td>\n",
       "      <td>0.000000</td>\n",
       "      <td>1.000000</td>\n",
       "      <td>1.000000</td>\n",
       "      <td>0.010000</td>\n",
       "      <td>3.000000</td>\n",
       "      <td>0.000000</td>\n",
       "      <td>0.000000</td>\n",
       "      <td>1.000000</td>\n",
       "    </tr>\n",
       "    <tr>\n",
       "      <th>25%</th>\n",
       "      <td>3.500000</td>\n",
       "      <td>3.500000</td>\n",
       "      <td>3.500000</td>\n",
       "      <td>3.500000</td>\n",
       "      <td>3.500000</td>\n",
       "      <td>5.100000</td>\n",
       "      <td>1717.000000</td>\n",
       "      <td>0.000000</td>\n",
       "      <td>1.000000</td>\n",
       "      <td>4.000000</td>\n",
       "    </tr>\n",
       "    <tr>\n",
       "      <th>50%</th>\n",
       "      <td>4.000000</td>\n",
       "      <td>4.000000</td>\n",
       "      <td>4.000000</td>\n",
       "      <td>4.000000</td>\n",
       "      <td>4.000000</td>\n",
       "      <td>6.300000</td>\n",
       "      <td>13906.000000</td>\n",
       "      <td>0.000000</td>\n",
       "      <td>1.000000</td>\n",
       "      <td>4.000000</td>\n",
       "    </tr>\n",
       "    <tr>\n",
       "      <th>75%</th>\n",
       "      <td>4.500000</td>\n",
       "      <td>4.000000</td>\n",
       "      <td>4.000000</td>\n",
       "      <td>4.000000</td>\n",
       "      <td>4.500000</td>\n",
       "      <td>8.400000</td>\n",
       "      <td>39441.000000</td>\n",
       "      <td>0.000000</td>\n",
       "      <td>1.000000</td>\n",
       "      <td>5.000000</td>\n",
       "    </tr>\n",
       "    <tr>\n",
       "      <th>max</th>\n",
       "      <td>5.000000</td>\n",
       "      <td>5.000000</td>\n",
       "      <td>5.000000</td>\n",
       "      <td>5.000000</td>\n",
       "      <td>5.000000</td>\n",
       "      <td>57.700000</td>\n",
       "      <td>77317.000000</td>\n",
       "      <td>1.000000</td>\n",
       "      <td>1.000000</td>\n",
       "      <td>5.000000</td>\n",
       "    </tr>\n",
       "  </tbody>\n",
       "</table>\n",
       "</div>"
      ],
      "text/plain": [
       "       review_overall   review_aroma  review_appearance  review_palate  \\\n",
       "count   951968.000000  951968.000000      951968.000000  951968.000000   \n",
       "mean         3.815627       3.736057           3.841506       3.743416   \n",
       "std          0.720539       0.697346           0.616153       0.682205   \n",
       "min          0.000000       1.000000           0.000000       1.000000   \n",
       "25%          3.500000       3.500000           3.500000       3.500000   \n",
       "50%          4.000000       4.000000           4.000000       4.000000   \n",
       "75%          4.500000       4.000000           4.000000       4.000000   \n",
       "max          5.000000       5.000000           5.000000       5.000000   \n",
       "\n",
       "        review_taste       beer_abv    beer_beerid       is_lager  \\\n",
       "count  951968.000000  951968.000000  951968.000000  951968.000000   \n",
       "mean        3.793138       6.953427   21715.507504       0.233275   \n",
       "std         0.731730       2.307333   21821.529150       0.422916   \n",
       "min         1.000000       0.010000       3.000000       0.000000   \n",
       "25%         3.500000       5.100000    1717.000000       0.000000   \n",
       "50%         4.000000       6.300000   13906.000000       0.000000   \n",
       "75%         4.500000       8.400000   39441.000000       0.000000   \n",
       "max         5.000000      57.700000   77317.000000       1.000000   \n",
       "\n",
       "           is_barley     review_cat  \n",
       "count  951968.000000  951968.000000  \n",
       "mean        0.860780       4.035455  \n",
       "std         0.346176       0.770258  \n",
       "min         0.000000       1.000000  \n",
       "25%         1.000000       4.000000  \n",
       "50%         1.000000       4.000000  \n",
       "75%         1.000000       5.000000  \n",
       "max         1.000000       5.000000  "
      ]
     },
     "execution_count": 6,
     "metadata": {},
     "output_type": "execute_result"
    }
   ],
   "source": [
    "train.describe()"
   ]
  },
  {
   "cell_type": "code",
   "execution_count": 7,
   "id": "a3edbc7e",
   "metadata": {},
   "outputs": [
    {
     "data": {
      "text/html": [
       "<div>\n",
       "<style scoped>\n",
       "    .dataframe tbody tr th:only-of-type {\n",
       "        vertical-align: middle;\n",
       "    }\n",
       "\n",
       "    .dataframe tbody tr th {\n",
       "        vertical-align: top;\n",
       "    }\n",
       "\n",
       "    .dataframe thead th {\n",
       "        text-align: right;\n",
       "    }\n",
       "</style>\n",
       "<table border=\"1\" class=\"dataframe\">\n",
       "  <thead>\n",
       "    <tr style=\"text-align: right;\">\n",
       "      <th></th>\n",
       "      <th>571456</th>\n",
       "      <th>662029</th>\n",
       "      <th>668428</th>\n",
       "      <th>413225</th>\n",
       "      <th>912613</th>\n",
       "    </tr>\n",
       "  </thead>\n",
       "  <tbody>\n",
       "    <tr>\n",
       "      <th>review_overall</th>\n",
       "      <td>4.5</td>\n",
       "      <td>4.0</td>\n",
       "      <td>4.0</td>\n",
       "      <td>4.0</td>\n",
       "      <td>3.0</td>\n",
       "    </tr>\n",
       "    <tr>\n",
       "      <th>review_aroma</th>\n",
       "      <td>4.0</td>\n",
       "      <td>4.0</td>\n",
       "      <td>4.0</td>\n",
       "      <td>4.0</td>\n",
       "      <td>3.0</td>\n",
       "    </tr>\n",
       "    <tr>\n",
       "      <th>review_appearance</th>\n",
       "      <td>3.5</td>\n",
       "      <td>2.5</td>\n",
       "      <td>3.5</td>\n",
       "      <td>3.5</td>\n",
       "      <td>3.5</td>\n",
       "    </tr>\n",
       "    <tr>\n",
       "      <th>beer_style</th>\n",
       "      <td>Saison / Farmhouse Ale</td>\n",
       "      <td>American IPA</td>\n",
       "      <td>Kölsch</td>\n",
       "      <td>American Strong Ale</td>\n",
       "      <td>English Brown Ale</td>\n",
       "    </tr>\n",
       "    <tr>\n",
       "      <th>review_palate</th>\n",
       "      <td>4.0</td>\n",
       "      <td>3.0</td>\n",
       "      <td>3.5</td>\n",
       "      <td>4.0</td>\n",
       "      <td>3.5</td>\n",
       "    </tr>\n",
       "    <tr>\n",
       "      <th>review_taste</th>\n",
       "      <td>4.0</td>\n",
       "      <td>3.0</td>\n",
       "      <td>4.0</td>\n",
       "      <td>4.0</td>\n",
       "      <td>3.5</td>\n",
       "    </tr>\n",
       "    <tr>\n",
       "      <th>beer_name</th>\n",
       "      <td>Bam Noire</td>\n",
       "      <td>Duet IPA</td>\n",
       "      <td>Reissdorf Kölsch</td>\n",
       "      <td>Great Lakes Nosferatu</td>\n",
       "      <td>Brown Ale</td>\n",
       "    </tr>\n",
       "    <tr>\n",
       "      <th>beer_abv</th>\n",
       "      <td>4.3</td>\n",
       "      <td>7.0</td>\n",
       "      <td>4.8</td>\n",
       "      <td>8.0</td>\n",
       "      <td>5.4</td>\n",
       "    </tr>\n",
       "    <tr>\n",
       "      <th>beer_beerid</th>\n",
       "      <td>38459</td>\n",
       "      <td>27604</td>\n",
       "      <td>2040</td>\n",
       "      <td>1792</td>\n",
       "      <td>16879</td>\n",
       "    </tr>\n",
       "    <tr>\n",
       "      <th>is_lager</th>\n",
       "      <td>0</td>\n",
       "      <td>0</td>\n",
       "      <td>0</td>\n",
       "      <td>1</td>\n",
       "      <td>0</td>\n",
       "    </tr>\n",
       "    <tr>\n",
       "      <th>is_barley</th>\n",
       "      <td>1</td>\n",
       "      <td>1</td>\n",
       "      <td>1</td>\n",
       "      <td>1</td>\n",
       "      <td>1</td>\n",
       "    </tr>\n",
       "    <tr>\n",
       "      <th>review_cat</th>\n",
       "      <td>5</td>\n",
       "      <td>4</td>\n",
       "      <td>4</td>\n",
       "      <td>4</td>\n",
       "      <td>3</td>\n",
       "    </tr>\n",
       "  </tbody>\n",
       "</table>\n",
       "</div>"
      ],
      "text/plain": [
       "                                   571456        662029            668428  \\\n",
       "review_overall                        4.5           4.0               4.0   \n",
       "review_aroma                          4.0           4.0               4.0   \n",
       "review_appearance                     3.5           2.5               3.5   \n",
       "beer_style         Saison / Farmhouse Ale  American IPA            Kölsch   \n",
       "review_palate                         4.0           3.0               3.5   \n",
       "review_taste                          4.0           3.0               4.0   \n",
       "beer_name                       Bam Noire      Duet IPA  Reissdorf Kölsch   \n",
       "beer_abv                              4.3           7.0               4.8   \n",
       "beer_beerid                         38459         27604              2040   \n",
       "is_lager                                0             0                 0   \n",
       "is_barley                               1             1                 1   \n",
       "review_cat                              5             4                 4   \n",
       "\n",
       "                                  413225             912613  \n",
       "review_overall                       4.0                3.0  \n",
       "review_aroma                         4.0                3.0  \n",
       "review_appearance                    3.5                3.5  \n",
       "beer_style           American Strong Ale  English Brown Ale  \n",
       "review_palate                        4.0                3.5  \n",
       "review_taste                         4.0                3.5  \n",
       "beer_name          Great Lakes Nosferatu          Brown Ale  \n",
       "beer_abv                             8.0                5.4  \n",
       "beer_beerid                         1792              16879  \n",
       "is_lager                               1                  0  \n",
       "is_barley                              1                  1  \n",
       "review_cat                             4                  3  "
      ]
     },
     "execution_count": 7,
     "metadata": {},
     "output_type": "execute_result"
    }
   ],
   "source": [
    "train.head().T"
   ]
  },
  {
   "cell_type": "markdown",
   "id": "493ef938",
   "metadata": {},
   "source": [
    "### Overall view of target variable"
   ]
  },
  {
   "cell_type": "code",
   "execution_count": 8,
   "id": "bd453489",
   "metadata": {},
   "outputs": [
    {
     "data": {
      "text/plain": [
       "<function matplotlib.pyplot.show(close=None, block=None)>"
      ]
     },
     "execution_count": 8,
     "metadata": {},
     "output_type": "execute_result"
    },
    {
     "data": {
      "image/png": "[encoded data removed]",
      "text/plain": [
       "<Figure size 640x480 with 1 Axes>"
      ]
     },
     "metadata": {},
     "output_type": "display_data"
    }
   ],
   "source": [
    "train.review_cat.hist(grid=False)\n",
    "plt.ylabel('Value Count')\n",
    "plt.xlabel('Review Category Score')\n",
    "plt.title('What is the distribution of scores?')\n",
    "plt.show"
   ]
  },
  {
   "cell_type": "markdown",
   "id": "c965c445",
   "metadata": {},
   "source": [
    "* Most reviews fall in the 4 category, we cannot treat the distribution as normal\n",
    "* review_cat and review_overall categories operated similarly when compared with other variables"
   ]
  },
  {
   "cell_type": "markdown",
   "id": "e756c2b9",
   "metadata": {},
   "source": [
    "### Which subratings of beer quality are most highly correlated with overall quality?"
   ]
  },
  {
   "cell_type": "code",
   "execution_count": 9,
   "id": "fe33617f",
   "metadata": {},
   "outputs": [
    {
     "name": "stderr",
     "output_type": "stream",
     "text": [
      "/var/folders/_6/0nkpzhxj2_n85fz5s1rk__xr0000gn/T/ipykernel_26194/2689449298.py:1: FutureWarning: The default value of numeric_only in DataFrame.corr is deprecated. In a future version, it will default to False. Select only valid columns or specify the value of numeric_only to silence this warning.\n",
      "  train.corr()['review_cat']\n"
     ]
    },
    {
     "data": {
      "text/plain": [
       "review_overall       0.946740\n",
       "review_aroma         0.583325\n",
       "review_appearance    0.474821\n",
       "review_palate        0.662622\n",
       "review_taste         0.745791\n",
       "beer_abv             0.136423\n",
       "beer_beerid          0.003839\n",
       "is_lager            -0.140453\n",
       "is_barley            0.084680\n",
       "review_cat           1.000000\n",
       "Name: review_cat, dtype: float64"
      ]
     },
     "execution_count": 9,
     "metadata": {},
     "output_type": "execute_result"
    }
   ],
   "source": [
    "train.corr()['review_cat']"
   ]
  },
  {
   "cell_type": "markdown",
   "id": "b239a312",
   "metadata": {},
   "source": [
    "* Subjective subratings are most highly correlated, but this makes sense. Are the objective categories statistically significantly correlated?"
   ]
  },
  {
   "cell_type": "code",
   "execution_count": 10,
   "id": "b9a82656",
   "metadata": {},
   "outputs": [
    {
     "data": {
      "text/plain": [
       "(-0.14747029204987488, 0.0)"
      ]
     },
     "execution_count": 10,
     "metadata": {},
     "output_type": "execute_result"
    }
   ],
   "source": [
    "# statistical significant relationship between overall review and lager vs ale? Yes\n",
    "\n",
    "corr, p = stats.pearsonr(train.review_overall, train.is_lager)\n",
    "corr, p\n"
   ]
  },
  {
   "cell_type": "code",
   "execution_count": 11,
   "id": "2f02ac66",
   "metadata": {},
   "outputs": [
    {
     "data": {
      "text/plain": [
       "(0.08955457575396884, 0.0)"
      ]
     },
     "execution_count": 11,
     "metadata": {},
     "output_type": "execute_result"
    }
   ],
   "source": [
    "# statistical significant relationship between overall review and barley vs non-barley beers? Yes\n",
    "corr, p = stats.pearsonr(train.review_overall, train.is_barley)\n",
    "corr, p\n"
   ]
  },
  {
   "cell_type": "code",
   "execution_count": 12,
   "id": "0cc44ce7",
   "metadata": {},
   "outputs": [
    {
     "data": {
      "text/plain": [
       "(0.14287864024093855, 0.0)"
      ]
     },
     "execution_count": 12,
     "metadata": {},
     "output_type": "execute_result"
    }
   ],
   "source": [
    "# statistical significant relationship between overall review and abv? Yes\n",
    "\n",
    "corr, p = stats.pearsonr(train.review_overall, train.beer_abv)\n",
    "corr, p"
   ]
  },
  {
   "cell_type": "markdown",
   "id": "1002ac39",
   "metadata": {},
   "source": [
    "### Is there a difference between quality rating of lagers vs ales?"
   ]
  },
  {
   "cell_type": "code",
   "execution_count": 35,
   "id": "2ec35534",
   "metadata": {},
   "outputs": [
    {
     "data": {
      "image/png": "[encoded data removed]",
      "text/plain": [
       "<Figure size 640x480 with 1 Axes>"
      ]
     },
     "metadata": {},
     "output_type": "display_data"
    }
   ],
   "source": [
    "sns.boxplot(data=train, x='is_lager', y='review_overall')\n",
    "plt.ylabel('Review')\n",
    "plt.xlabel('Is this a lager?')\n",
    "plt.title('Is there a difference in rating between ales and lagers?')\n",
    "plt.show\n",
    "plt.savefig(\"lager_ale.png\")"
   ]
  },
  {
   "cell_type": "markdown",
   "id": "02b2033c",
   "metadata": {},
   "source": [
    "Is there a statistically significant difference in mean overall score between ales and lagers?\n",
    "\n",
    "Ho: No statistically significant difference between the mean scores of ales and lagers\n",
    "Ha: There is a statistically significant difference between the mean scores of ales and lagers"
   ]
  },
  {
   "cell_type": "code",
   "execution_count": 15,
   "id": "eb0b12ec",
   "metadata": {},
   "outputs": [
    {
     "data": {
      "text/plain": [
       "MannwhitneyuResult(statistic=95083323202.0, pvalue=0.0)"
      ]
     },
     "execution_count": 15,
     "metadata": {},
     "output_type": "execute_result"
    }
   ],
   "source": [
    "# independent, one sided mann whitney test measuring statistical significance absent of normal distribution\n",
    "\n",
    "stats.mannwhitneyu(train[train.is_lager==0].review_overall, \n",
    "             train[train.is_lager==1].review_overall, alternative='greater')\n"
   ]
  },
  {
   "cell_type": "markdown",
   "id": "40b1fa92",
   "metadata": {},
   "source": [
    "#### We reject the null hypothesis. Ales are reated higher on average than lagers"
   ]
  },
  {
   "cell_type": "markdown",
   "id": "6ad9cec0",
   "metadata": {},
   "source": [
    "### Is there a difference between quality rating of barley vs non-barley malt beers?"
   ]
  },
  {
   "cell_type": "code",
   "execution_count": 36,
   "id": "2651b75a",
   "metadata": {},
   "outputs": [
    {
     "data": {
      "image/png": "[encoded data removed]",
      "text/plain": [
       "<Figure size 640x480 with 1 Axes>"
      ]
     },
     "metadata": {},
     "output_type": "display_data"
    }
   ],
   "source": [
    "sns.boxplot(data=train, x='is_barley', y='review_cat')\n",
    "plt.ylabel('Review')\n",
    "plt.xlabel('Is this beer made with barley?')\n",
    "plt.title('Is there a difference in rating between barley and non-barley beers?')\n",
    "plt.show\n",
    "plt.savefig(\"barley.png\")"
   ]
  },
  {
   "cell_type": "markdown",
   "id": "268e1e97",
   "metadata": {},
   "source": [
    "Is there statistically significant difference in mean overall score between barley and not barley beers?\n",
    "\n",
    "Ho: No statistically significant difference between the mean scores of barley and not barley beers\n",
    "Ha: There is a statistically significant difference between the mean scores of barley and not barley beers"
   ]
  },
  {
   "cell_type": "code",
   "execution_count": 21,
   "id": "5d24c05a",
   "metadata": {},
   "outputs": [
    {
     "data": {
      "text/plain": [
       "MannwhitneyuResult(statistic=47525374106.5, pvalue=0.0)"
      ]
     },
     "execution_count": 21,
     "metadata": {},
     "output_type": "execute_result"
    }
   ],
   "source": [
    "# independent, one sided mann whitney test measuring statistical significance absent of normal distribution\n",
    "\n",
    "stats.mannwhitneyu(train[train.is_barley==0].review_overall, \n",
    "             train[train.is_barley==1].review_overall, alternative='less')\n"
   ]
  },
  {
   "cell_type": "markdown",
   "id": "f16363f5",
   "metadata": {},
   "source": [
    "#### We reject the null hypothesis. Traditional barley beers are rated higher on average. "
   ]
  },
  {
   "cell_type": "markdown",
   "id": "a3dd4405",
   "metadata": {},
   "source": [
    "### How does ABV contribute to perception of beer quality?"
   ]
  },
  {
   "cell_type": "code",
   "execution_count": 37,
   "id": "ea0c8ecd",
   "metadata": {},
   "outputs": [
    {
     "data": {
      "image/png": "[encoded data removed]",
      "text/plain": [
       "<Figure size 564.736x500 with 1 Axes>"
      ]
     },
     "metadata": {},
     "output_type": "display_data"
    }
   ],
   "source": [
    "sns.lmplot(x='review_overall', y='beer_abv', data=train, scatter=True, hue='is_lager')\n",
    "plt.ylim(1,10)\n",
    "plt.ylabel('ABV')\n",
    "plt.xlabel('Review')\n",
    "plt.title('How does ABV affect perception of beer for lagers vs ales?')\n",
    "plt.show\n",
    "plt.savefig(\"abv_lager.png\")"
   ]
  },
  {
   "cell_type": "code",
   "execution_count": 38,
   "id": "3430eef8",
   "metadata": {
    "scrolled": false
   },
   "outputs": [
    {
     "data": {
      "image/png": "[encoded data removed]",
      "text/plain": [
       "<Figure size 572.986x500 with 1 Axes>"
      ]
     },
     "metadata": {},
     "output_type": "display_data"
    }
   ],
   "source": [
    "sns.lmplot(x='review_overall', y='beer_abv', data=train, scatter=True, hue='is_barley')\n",
    "plt.ylim(1,10)\n",
    "plt.ylabel('ABV')\n",
    "plt.xlabel('Review')\n",
    "plt.title('How does ABV affect perception of beer for barley vs non-barley beer?')\n",
    "plt.show\n",
    "plt.savefig(\"abv_barley.png\")"
   ]
  },
  {
   "cell_type": "markdown",
   "id": "88e994fe",
   "metadata": {},
   "source": [
    "### Exploration Summary"
   ]
  },
  {
   "cell_type": "markdown",
   "id": "057692fd",
   "metadata": {},
   "source": [
    "* Most subjective review subcategories are too interrelated with the overall score to use in modeling. The exception is aroma, something that can be altered separately in the brewing process.\n",
    "* Ales are statistically significantly rated of higher quality than lagers\n",
    "* Traditional beers using barley as a grain are statistically significantly rated higher than other malts.\n",
    "* Higher ABV (around 6-7%) tends to mean a higher rating"
   ]
  },
  {
   "cell_type": "markdown",
   "id": "ada2dd2a",
   "metadata": {},
   "source": [
    "## Modeling"
   ]
  },
  {
   "cell_type": "markdown",
   "id": "6b8db807",
   "metadata": {},
   "source": [
    "* We will use accuracy as a primary metric to compare to baseline and also examine of other metrics hold up between variations of hyperparameters\n",
    "* Baseline accuracy is 56%. The model will have to exceed this to be effective. \n",
    "* We will utilize Random Forest modeling as this introduces randomness and parameters can be easily modified\n",
    "* We will iterate through hyperparameters to find accuracy, compare this using validate data, and "
   ]
  },
  {
   "cell_type": "code",
   "execution_count": 25,
   "id": "02a65c57",
   "metadata": {},
   "outputs": [
    {
     "name": "stdout",
     "output_type": "stream",
     "text": [
      "Baseline accuracy: 0.56\n"
     ]
    }
   ],
   "source": [
    "# Use mode as baseline\n",
    "baseline = y_train.mode()\n",
    "\n",
    "# Produce a boolean array with True representing a match between the baseline prediction and reality\n",
    "matches_baseline_prediction = y_train == 4\n",
    "\n",
    "baseline_accuracy = matches_baseline_prediction.mean()\n",
    "print(f\"Baseline accuracy: {round(baseline_accuracy, 2)}\")"
   ]
  },
  {
   "cell_type": "code",
   "execution_count": 31,
   "id": "e0376357",
   "metadata": {},
   "outputs": [
    {
     "name": "stdout",
     "output_type": "stream",
     "text": [
      "Tree with max depth of 2\n",
      "                1        2              3              4         5  accuracy  \\\n",
      "precision     0.0      0.0       0.431334       0.568854       0.0  0.564603   \n",
      "recall        0.0      0.0       0.094364       0.988778       0.0  0.564603   \n",
      "f1-score      0.0      0.0       0.154851       0.722212       0.0  0.564603   \n",
      "support    6577.0  30720.0  134500.000000  530748.000000  249423.0  0.564603   \n",
      "\n",
      "               macro avg   weighted avg  \n",
      "precision       0.200038       0.378093  \n",
      "recall          0.216628       0.564603  \n",
      "f1-score        0.175413       0.424531  \n",
      "support    951968.000000  951968.000000  \n",
      "\n",
      "Tree with max depth of 3\n",
      "                1        2              3              4              5  \\\n",
      "precision     0.0      0.0       0.444579       0.613395       0.558611   \n",
      "recall        0.0      0.0       0.187814       0.858681       0.340787   \n",
      "f1-score      0.0      0.0       0.264071       0.715602       0.423322   \n",
      "support    6577.0  30720.0  134500.000000  530748.000000  249423.000000   \n",
      "\n",
      "           accuracy      macro avg   weighted avg  \n",
      "precision  0.594562       0.323317       0.551158  \n",
      "recall     0.594562       0.277456       0.594562  \n",
      "f1-score   0.594562       0.280599       0.547191  \n",
      "support    0.594562  951968.000000  951968.000000  \n",
      "\n",
      "Tree with max depth of 4\n",
      "                1             2              3              4              5  \\\n",
      "precision     0.0      0.443352       0.447497       0.633994       0.554903   \n",
      "recall        0.0      0.039616       0.241279       0.821998       0.419516   \n",
      "f1-score      0.0      0.072733       0.313517       0.715858       0.477804   \n",
      "support    6577.0  30720.000000  134500.000000  530748.000000  249423.000000   \n",
      "\n",
      "           accuracy      macro avg   weighted avg  \n",
      "precision  0.603571       0.415949       0.576390  \n",
      "recall     0.603571       0.304482       0.603571  \n",
      "f1-score   0.603571       0.315982       0.570942  \n",
      "support    0.603571  951968.000000  951968.000000  \n",
      "\n",
      "Tree with max depth of 5\n",
      "                1             2              3              4              5  \\\n",
      "precision     0.0      0.453476       0.451882       0.636457       0.558579   \n",
      "recall        0.0      0.086621       0.238372       0.821829       0.425097   \n",
      "f1-score      0.0      0.145458       0.312105       0.717361       0.482782   \n",
      "support    6577.0  30720.000000  134500.000000  530748.000000  249423.000000   \n",
      "\n",
      "           accuracy      macro avg   weighted avg  \n",
      "precision  0.606045       0.420079       0.579673  \n",
      "recall     0.606045       0.314384       0.606045  \n",
      "f1-score   0.606045       0.331541       0.575231  \n",
      "support    0.606045  951968.000000  951968.000000  \n",
      "\n",
      "Tree with max depth of 6\n",
      "                     1             2              3              4  \\\n",
      "precision     0.749153      0.456803       0.467638       0.636944   \n",
      "recall        0.033602      0.151465       0.234587       0.821693   \n",
      "f1-score      0.064319      0.227497       0.312441       0.717619   \n",
      "support    6577.000000  30720.000000  134500.000000  530748.000000   \n",
      "\n",
      "                       5  accuracy      macro avg   weighted avg  \n",
      "precision       0.559106  0.607572       0.573929       0.587591  \n",
      "recall          0.424383  0.607572       0.333146       0.607572  \n",
      "f1-score        0.482517  0.607572       0.360879       0.578444  \n",
      "support    249423.000000  0.607572  951968.000000  951968.000000  \n",
      "\n",
      "Tree with max depth of 7\n",
      "                     1             2              3              4  \\\n",
      "precision     0.559603      0.465172       0.483109       0.637690   \n",
      "recall        0.154174      0.194564       0.233599       0.820568   \n",
      "f1-score      0.241745      0.274369       0.314922       0.717662   \n",
      "support    6577.000000  30720.000000  134500.000000  530748.000000   \n",
      "\n",
      "                       5  accuracy      macro avg   weighted avg  \n",
      "precision       0.559353  0.609074       0.540986       0.589219  \n",
      "recall          0.424556  0.609074       0.365492       0.609074  \n",
      "f1-score        0.482721  0.609074       0.406284       0.581611  \n",
      "support    249423.000000  0.609074  951968.000000  951968.000000  \n",
      "\n",
      "Tree with max depth of 8\n",
      "                     1             2              3              4  \\\n",
      "precision     0.558666      0.468629       0.487740       0.638037   \n",
      "recall        0.221530      0.212988       0.231903       0.820259   \n",
      "f1-score      0.317256      0.292870       0.314346       0.717763   \n",
      "support    6577.000000  30720.000000  134500.000000  530748.000000   \n",
      "\n",
      "                       5  accuracy      macro avg   weighted avg  \n",
      "precision       0.559669   0.60967       0.542548       0.590254  \n",
      "recall          0.424355   0.60967       0.382207       0.609670  \n",
      "f1-score        0.482709   0.60967       0.424989       0.582701  \n",
      "support    249423.000000   0.60967  951968.000000  951968.000000  \n",
      "\n",
      "Tree with max depth of 9\n",
      "                     1             2              3              4  \\\n",
      "precision     0.558003      0.459637       0.492390       0.637605   \n",
      "recall        0.246465      0.230566       0.228491       0.824911   \n",
      "f1-score      0.341911      0.307089       0.312136       0.719264   \n",
      "support    6577.000000  30720.000000  134500.000000  530748.000000   \n",
      "\n",
      "                       5  accuracy      macro avg   weighted avg  \n",
      "precision       0.563627  0.610617       0.542252       0.591412  \n",
      "recall          0.417091  0.610617       0.389505       0.610617  \n",
      "f1-score        0.479411  0.610617       0.431962       0.582991  \n",
      "support    249423.000000  0.610617  951968.000000  951968.000000  \n",
      "\n",
      "Tree with max depth of 10\n",
      "                     1             2              3              4  \\\n",
      "precision     0.557229      0.458915       0.494431       0.636595   \n",
      "recall        0.253155      0.237435       0.229368       0.831223   \n",
      "f1-score      0.348144      0.312953       0.313365       0.721006   \n",
      "support    6577.000000  30720.000000  134500.000000  530748.000000   \n",
      "\n",
      "                       5  accuracy      macro avg   weighted avg  \n",
      "precision       0.568124  0.611282       0.543059       0.592287  \n",
      "recall          0.404702  0.611282       0.391177       0.611282  \n",
      "f1-score        0.472687  0.611282       0.433631       0.582606  \n",
      "support    249423.000000  0.611282  951968.000000  951968.000000  \n",
      "\n"
     ]
    }
   ],
   "source": [
    "for i in range(2, 11):\n",
    "    # Makes Random Forest Model\n",
    "    forest = RandomForestClassifier(max_depth=i, random_state=7)\n",
    "\n",
    "    # Fit the model \n",
    "    forest = forest.fit(X_train, y_train)\n",
    "\n",
    "    # Use model\n",
    "    # Evaluate on train\n",
    "    y_predictions = forest.predict(X_train)\n",
    "\n",
    "    # Produce report on actual y values and this model's predicted y values\n",
    "    report = classification_report(y_train, y_predictions, output_dict=True)\n",
    "    print(f\"Tree with max depth of {i}\")\n",
    "    print(pd.DataFrame(report))\n",
    "    print()"
   ]
  },
  {
   "cell_type": "markdown",
   "id": "938f8c39",
   "metadata": {},
   "source": [
    "#### Models of depth 9 seem to strike a balance between high accuracy and other scores as well as not being too overfit"
   ]
  },
  {
   "cell_type": "code",
   "execution_count": 28,
   "id": "4748cb49",
   "metadata": {},
   "outputs": [
    {
     "data": {
      "text/html": [
       "<div>\n",
       "<style scoped>\n",
       "    .dataframe tbody tr th:only-of-type {\n",
       "        vertical-align: middle;\n",
       "    }\n",
       "\n",
       "    .dataframe tbody tr th {\n",
       "        vertical-align: top;\n",
       "    }\n",
       "\n",
       "    .dataframe thead th {\n",
       "        text-align: right;\n",
       "    }\n",
       "</style>\n",
       "<table border=\"1\" class=\"dataframe\">\n",
       "  <thead>\n",
       "    <tr style=\"text-align: right;\">\n",
       "      <th></th>\n",
       "      <th>max_depth</th>\n",
       "      <th>train_accuracy</th>\n",
       "      <th>validate_accuracy</th>\n",
       "      <th>difference</th>\n",
       "    </tr>\n",
       "  </thead>\n",
       "  <tbody>\n",
       "    <tr>\n",
       "      <th>0</th>\n",
       "      <td>2</td>\n",
       "      <td>0.564603</td>\n",
       "      <td>0.564557</td>\n",
       "      <td>0.000046</td>\n",
       "    </tr>\n",
       "    <tr>\n",
       "      <th>1</th>\n",
       "      <td>3</td>\n",
       "      <td>0.594562</td>\n",
       "      <td>0.594155</td>\n",
       "      <td>0.000407</td>\n",
       "    </tr>\n",
       "    <tr>\n",
       "      <th>2</th>\n",
       "      <td>4</td>\n",
       "      <td>0.603571</td>\n",
       "      <td>0.603218</td>\n",
       "      <td>0.000353</td>\n",
       "    </tr>\n",
       "    <tr>\n",
       "      <th>3</th>\n",
       "      <td>5</td>\n",
       "      <td>0.606045</td>\n",
       "      <td>0.606039</td>\n",
       "      <td>0.000006</td>\n",
       "    </tr>\n",
       "    <tr>\n",
       "      <th>4</th>\n",
       "      <td>6</td>\n",
       "      <td>0.607572</td>\n",
       "      <td>0.607469</td>\n",
       "      <td>0.000103</td>\n",
       "    </tr>\n",
       "    <tr>\n",
       "      <th>5</th>\n",
       "      <td>7</td>\n",
       "      <td>0.609074</td>\n",
       "      <td>0.608582</td>\n",
       "      <td>0.000492</td>\n",
       "    </tr>\n",
       "    <tr>\n",
       "      <th>6</th>\n",
       "      <td>8</td>\n",
       "      <td>0.609670</td>\n",
       "      <td>0.608853</td>\n",
       "      <td>0.000817</td>\n",
       "    </tr>\n",
       "    <tr>\n",
       "      <th>7</th>\n",
       "      <td>9</td>\n",
       "      <td>0.610617</td>\n",
       "      <td>0.609480</td>\n",
       "      <td>0.001137</td>\n",
       "    </tr>\n",
       "    <tr>\n",
       "      <th>8</th>\n",
       "      <td>10</td>\n",
       "      <td>0.611282</td>\n",
       "      <td>0.609754</td>\n",
       "      <td>0.001528</td>\n",
       "    </tr>\n",
       "    <tr>\n",
       "      <th>9</th>\n",
       "      <td>11</td>\n",
       "      <td>0.612060</td>\n",
       "      <td>0.609537</td>\n",
       "      <td>0.002524</td>\n",
       "    </tr>\n",
       "    <tr>\n",
       "      <th>10</th>\n",
       "      <td>12</td>\n",
       "      <td>0.612667</td>\n",
       "      <td>0.609663</td>\n",
       "      <td>0.003004</td>\n",
       "    </tr>\n",
       "    <tr>\n",
       "      <th>11</th>\n",
       "      <td>13</td>\n",
       "      <td>0.613133</td>\n",
       "      <td>0.609767</td>\n",
       "      <td>0.003366</td>\n",
       "    </tr>\n",
       "    <tr>\n",
       "      <th>12</th>\n",
       "      <td>14</td>\n",
       "      <td>0.613354</td>\n",
       "      <td>0.609710</td>\n",
       "      <td>0.003644</td>\n",
       "    </tr>\n",
       "    <tr>\n",
       "      <th>13</th>\n",
       "      <td>15</td>\n",
       "      <td>0.613519</td>\n",
       "      <td>0.609470</td>\n",
       "      <td>0.004048</td>\n",
       "    </tr>\n",
       "    <tr>\n",
       "      <th>14</th>\n",
       "      <td>16</td>\n",
       "      <td>0.613570</td>\n",
       "      <td>0.609439</td>\n",
       "      <td>0.004131</td>\n",
       "    </tr>\n",
       "    <tr>\n",
       "      <th>15</th>\n",
       "      <td>17</td>\n",
       "      <td>0.613599</td>\n",
       "      <td>0.609392</td>\n",
       "      <td>0.004208</td>\n",
       "    </tr>\n",
       "    <tr>\n",
       "      <th>16</th>\n",
       "      <td>18</td>\n",
       "      <td>0.613614</td>\n",
       "      <td>0.609392</td>\n",
       "      <td>0.004222</td>\n",
       "    </tr>\n",
       "    <tr>\n",
       "      <th>17</th>\n",
       "      <td>19</td>\n",
       "      <td>0.613631</td>\n",
       "      <td>0.609351</td>\n",
       "      <td>0.004280</td>\n",
       "    </tr>\n",
       "    <tr>\n",
       "      <th>18</th>\n",
       "      <td>20</td>\n",
       "      <td>0.613637</td>\n",
       "      <td>0.609335</td>\n",
       "      <td>0.004302</td>\n",
       "    </tr>\n",
       "    <tr>\n",
       "      <th>19</th>\n",
       "      <td>21</td>\n",
       "      <td>0.613637</td>\n",
       "      <td>0.609341</td>\n",
       "      <td>0.004296</td>\n",
       "    </tr>\n",
       "    <tr>\n",
       "      <th>20</th>\n",
       "      <td>22</td>\n",
       "      <td>0.613637</td>\n",
       "      <td>0.609322</td>\n",
       "      <td>0.004315</td>\n",
       "    </tr>\n",
       "    <tr>\n",
       "      <th>21</th>\n",
       "      <td>23</td>\n",
       "      <td>0.613637</td>\n",
       "      <td>0.609338</td>\n",
       "      <td>0.004299</td>\n",
       "    </tr>\n",
       "    <tr>\n",
       "      <th>22</th>\n",
       "      <td>24</td>\n",
       "      <td>0.613637</td>\n",
       "      <td>0.609335</td>\n",
       "      <td>0.004302</td>\n",
       "    </tr>\n",
       "  </tbody>\n",
       "</table>\n",
       "</div>"
      ],
      "text/plain": [
       "    max_depth  train_accuracy  validate_accuracy  difference\n",
       "0           2        0.564603           0.564557    0.000046\n",
       "1           3        0.594562           0.594155    0.000407\n",
       "2           4        0.603571           0.603218    0.000353\n",
       "3           5        0.606045           0.606039    0.000006\n",
       "4           6        0.607572           0.607469    0.000103\n",
       "5           7        0.609074           0.608582    0.000492\n",
       "6           8        0.609670           0.608853    0.000817\n",
       "7           9        0.610617           0.609480    0.001137\n",
       "8          10        0.611282           0.609754    0.001528\n",
       "9          11        0.612060           0.609537    0.002524\n",
       "10         12        0.612667           0.609663    0.003004\n",
       "11         13        0.613133           0.609767    0.003366\n",
       "12         14        0.613354           0.609710    0.003644\n",
       "13         15        0.613519           0.609470    0.004048\n",
       "14         16        0.613570           0.609439    0.004131\n",
       "15         17        0.613599           0.609392    0.004208\n",
       "16         18        0.613614           0.609392    0.004222\n",
       "17         19        0.613631           0.609351    0.004280\n",
       "18         20        0.613637           0.609335    0.004302\n",
       "19         21        0.613637           0.609341    0.004296\n",
       "20         22        0.613637           0.609322    0.004315\n",
       "21         23        0.613637           0.609338    0.004299\n",
       "22         24        0.613637           0.609335    0.004302"
      ]
     },
     "execution_count": 28,
     "metadata": {},
     "output_type": "execute_result"
    }
   ],
   "source": [
    "metrics = []\n",
    "\n",
    "for i in range(2, 25):\n",
    "    # Make the model\n",
    "    forest = RandomForestClassifier(max_depth=i, random_state=7)\n",
    "\n",
    "    # Fit the model on train\n",
    "    forest = forest.fit(X_train, y_train)\n",
    "\n",
    "    # Use the model\n",
    "    # evaluate on train and then validate\n",
    "    in_sample_accuracy = forest.score(X_train, y_train)\n",
    "    \n",
    "    out_of_sample_accuracy = forest.score(X_validate, y_validate)\n",
    "\n",
    "    output = {\n",
    "        \"max_depth\": i,\n",
    "        \"train_accuracy\": in_sample_accuracy,\n",
    "        \"validate_accuracy\": out_of_sample_accuracy\n",
    "    }\n",
    "    \n",
    "    metrics.append(output)\n",
    "    \n",
    "df = pd.DataFrame(metrics)\n",
    "df[\"difference\"] = df.train_accuracy - df.validate_accuracy\n",
    "df"
   ]
  },
  {
   "cell_type": "code",
   "execution_count": 29,
   "id": "ceae9cc8",
   "metadata": {},
   "outputs": [
    {
     "data": {
      "image/png": "[encoded data removed]",
      "text/plain": [
       "<Figure size 1600x900 with 1 Axes>"
      ]
     },
     "metadata": {},
     "output_type": "display_data"
    }
   ],
   "source": [
    "df.set_index('max_depth').plot(figsize = (16,9))\n",
    "plt.ylabel('Accuracy')\n",
    "plt.xticks(np.arange(0,21,1))\n",
    "plt.grid()"
   ]
  },
  {
   "cell_type": "code",
   "execution_count": 30,
   "id": "96e70a85",
   "metadata": {},
   "outputs": [],
   "source": [
    "# make final model\n",
    "forest = RandomForestClassifier(max_depth=9, random_state=7)\n",
    "\n",
    "# fit final model\n",
    "forest = forest.fit(X_train, y_train)\n",
    "\n",
    "#calculate train accuracy of final model\n",
    "in_sample_accuracy = forest.score(X_train, y_train)\n",
    "\n",
    "#calculate on test\n",
    "out_of_sample_accuracy = forest.score(X_validate, y_validate)"
   ]
  },
  {
   "cell_type": "code",
   "execution_count": 32,
   "id": "61a9e853",
   "metadata": {},
   "outputs": [
    {
     "data": {
      "text/plain": [
       "0.6106171636021379"
      ]
     },
     "execution_count": 32,
     "metadata": {},
     "output_type": "execute_result"
    }
   ],
   "source": [
    "in_sample_accuracy"
   ]
  },
  {
   "cell_type": "code",
   "execution_count": 33,
   "id": "c482854b",
   "metadata": {},
   "outputs": [
    {
     "data": {
      "text/plain": [
       "0.6094799305439568"
      ]
     },
     "execution_count": 33,
     "metadata": {},
     "output_type": "execute_result"
    }
   ],
   "source": [
    "out_of_sample_accuracy"
   ]
  },
  {
   "cell_type": "markdown",
   "id": "d08b6b8d",
   "metadata": {},
   "source": [
    "Our depth 9 model beats baseline by 4-5% and train accuracy compares closely with test accuracy"
   ]
  },
  {
   "cell_type": "markdown",
   "id": "eb28b251",
   "metadata": {},
   "source": [
    "## Conclusions"
   ]
  },
  {
   "cell_type": "markdown",
   "id": "ffe6541f",
   "metadata": {},
   "source": [
    "### Exploration"
   ]
  },
  {
   "cell_type": "markdown",
   "id": "c7562a2e",
   "metadata": {},
   "source": [
    "* Ales are Rated Higher than Lagers on average, this could be due to perceptions of low quality in American Adjunct lagers\n",
    "* Traditional barley malt is rated higher than unconventional malts like rye or wheat\n",
    "* Subcategories of review are not terribly useful in prediction as they are too closely related to overall ratings\n",
    "* However, scent of beer could be a useful predictor due to its relatively low correlation with overall rating and potentially separate process in brewing"
   ]
  },
  {
   "cell_type": "markdown",
   "id": "e586263b",
   "metadata": {},
   "source": [
    "### Modeling"
   ]
  },
  {
   "cell_type": "markdown",
   "id": "5b8fc42b",
   "metadata": {},
   "source": [
    "* The final model outperforms baseline by 4-5% and does not seem overfit\n",
    "* Additional objective variables could be useful to increase predictive capability\n",
    "* This model seems best at predicting the 4 category of rating, this being the most common rating"
   ]
  },
  {
   "cell_type": "markdown",
   "id": "3f22a562",
   "metadata": {},
   "source": [
    "### Recommendations"
   ]
  },
  {
   "cell_type": "markdown",
   "id": "0bfe42dc",
   "metadata": {},
   "source": [
    "* For a broadly appealing beer, focus first on long fermentation, this will smooth out the beer and increase ABV\n",
    "* Ales are a good bet for an overall more appealing beer\n",
    "* Stick to traditional malts to increase sales"
   ]
  }
 ],
 "metadata": {
  "kernelspec": {
   "display_name": "Python 3 (ipykernel)",
   "language": "python",
   "name": "python3"
  },
  "language_info": {
   "codemirror_mode": {
    "name": "ipython",
    "version": 3
   },
   "file_extension": ".py",
   "mimetype": "text/x-python",
   "name": "python",
   "nbconvert_exporter": "python",
   "pygments_lexer": "ipython3",
   "version": "3.10.9"
  }
 },
 "nbformat": 4,
 "nbformat_minor": 5
}
